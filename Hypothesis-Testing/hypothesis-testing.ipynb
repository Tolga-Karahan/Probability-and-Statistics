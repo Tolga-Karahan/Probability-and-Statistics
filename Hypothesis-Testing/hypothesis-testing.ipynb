{
 "cells": [
  {
   "cell_type": "code",
   "execution_count": 1,
   "metadata": {},
   "outputs": [],
   "source": [
    "from scipy.stats import t\n",
    "from math import sqrt\n",
    "import numpy as np\n",
    "\n",
    "import pandas as pd"
   ]
  },
  {
   "cell_type": "code",
   "execution_count": 2,
   "metadata": {},
   "outputs": [
    {
     "data": {
      "text/plain": [
       "<matplotlib.axes._subplots.AxesSubplot at 0x7ff6d985dd68>"
      ]
     },
     "execution_count": 2,
     "metadata": {},
     "output_type": "execute_result"
    }
   ],
   "source": [
    "# read temperature data of San Diego and convert from Kelvin to Celcius\n",
    "temperatures = pd.read_csv(\"./hourly-weather-dataset/temperature.csv\")\n",
    "temperatures = temperatures[temperatures.datetime.str.contains(\"2016\")][\"San Diego\"] - 273.15\n",
    "value_counts = temperatures.size\n",
    "\n",
    "# Plot the histogram of data\n",
    "temperatures.plot.hist(100)"
   ]
  },
  {
   "cell_type": "code",
   "execution_count": 3,
   "metadata": {},
   "outputs": [
    {
     "data": {
      "text/plain": [
       "28476    16.014514\n",
       "28477    14.870000\n",
       "28478     8.362194\n",
       "28479    11.300000\n",
       "28480    10.293253\n",
       "Name: San Diego, dtype: float64"
      ]
     },
     "execution_count": 3,
     "metadata": {},
     "output_type": "execute_result"
    }
   ],
   "source": [
    "# show some entries of data\n",
    "temperatures.head()"
   ]
  },
  {
   "cell_type": "code",
   "execution_count": 4,
   "metadata": {},
   "outputs": [
    {
     "name": "stdout",
     "output_type": "stream",
     "text": [
      "Sample mean: 17.597271 Sample std: 5.602421\n"
     ]
    }
   ],
   "source": [
    "# Calculate mean and std of San Diego weather samples\n",
    "target_mean = 18\n",
    "sample_mean = np.mean(temperatures)\n",
    "sample_std  = np.std(temperatures) \n",
    "print(\"Sample mean: %.6f Sample std: %.6f\" % (sample_mean, sample_std))"
   ]
  },
  {
   "cell_type": "code",
   "execution_count": 5,
   "metadata": {},
   "outputs": [
    {
     "name": "stdout",
     "output_type": "stream",
     "text": [
      "T-value: -6.737262 P-value: 0.00000000000857751358\n"
     ]
    }
   ],
   "source": [
    "# Calculate t-value for hypothesis testing\n",
    "t_val = (sample_mean - target_mean) / (sample_std / sqrt(value_counts))\n",
    "\n",
    "# Calculate p-value for hypothesis testing\n",
    "p_val = t.cdf(t_val, value_counts - 1)\n",
    "\n",
    "print(\"T-value: %.6f P-value: %.20f\" % (t_val, p_val))"
   ]
  },
  {
   "cell_type": "code",
   "execution_count": null,
   "metadata": {},
   "outputs": [],
   "source": []
  }
 ],
 "metadata": {
  "kernelspec": {
   "display_name": "Python 3",
   "language": "python",
   "name": "python3"
  },
  "language_info": {
   "codemirror_mode": {
    "name": "ipython",
    "version": 3
   },
   "file_extension": ".py",
   "mimetype": "text/x-python",
   "name": "python",
   "nbconvert_exporter": "python",
   "pygments_lexer": "ipython3",
   "version": "3.6.6"
  }
 },
 "nbformat": 4,
 "nbformat_minor": 2
}
